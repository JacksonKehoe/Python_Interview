{
 "cells": [
  {
   "cell_type": "code",
   "execution_count": null,
   "id": "3448701a-c8b9-4940-8318-17286ca30f71",
   "metadata": {},
   "outputs": [],
   "source": [
    "# Given a binary array nums and an integer goal, return the number of non-empty subarrays with a sum goal.\n",
    "\n",
    "# A subarray is a contiguous part of the array."
   ]
  },
  {
   "cell_type": "code",
   "execution_count": null,
   "id": "d029c266-0cce-40ca-b08e-4e45a964fa55",
   "metadata": {},
   "outputs": [],
   "source": [
    "class Solution:\n",
    "    def numSubarraysWithSum(self, nums: List[int], goal: int) -> int:\n",
    "        #use a sliding window\n",
    "        result = defaultdict(int)\n",
    "        result[0] = 1\n",
    "        ans = 0\n",
    "        prefix_sum = 0\n",
    "        for i in nums:\n",
    "            prefix_sum += i\n",
    "            ans += result[prefix_sum - goal]\n",
    "            result[prefix_sum] += 1\n",
    "        return ans    "
   ]
  }
 ],
 "metadata": {
  "kernelspec": {
   "display_name": "Python 3 (ipykernel)",
   "language": "python",
   "name": "python3"
  },
  "language_info": {
   "codemirror_mode": {
    "name": "ipython",
    "version": 3
   },
   "file_extension": ".py",
   "mimetype": "text/x-python",
   "name": "python",
   "nbconvert_exporter": "python",
   "pygments_lexer": "ipython3",
   "version": "3.8.8"
  }
 },
 "nbformat": 4,
 "nbformat_minor": 5
}
