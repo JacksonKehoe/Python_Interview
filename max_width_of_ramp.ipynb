{
 "cells": [
  {
   "cell_type": "markdown",
   "id": "33bc3d9d-feac-4c42-80d0-51635d9a527c",
   "metadata": {},
   "source": [
    "A ramp in an integer array nums is a pair (i, j) for which i < j and nums[i] <= nums[j]. The width of such a ramp is j - i.\n",
    "\n",
    "Given an integer array nums, return the maximum width of a ramp in nums. If there is no ramp in nums, return 0.\n",
    "\n",
    " \n",
    "\n",
    "Example 1:\n",
    "\n",
    "Input: nums = [6,0,8,2,1,5]\n",
    "Output: 4\n",
    "Explanation: The maximum width ramp is achieved at (i, j) = (1, 5): nums[1] = 0 and nums[5] = 5.\n",
    "Example 2:\n",
    "\n",
    "Input: nums = [9,8,1,0,1,9,4,0,4,1]\n",
    "Output: 7\n",
    "Explanation: The maximum width ramp is achieved at (i, j) = (2, 9): nums[2] = 1 and nums[9] = 1."
   ]
  },
  {
   "cell_type": "code",
   "execution_count": null,
   "id": "34f8790a-b2c1-4b05-9c0f-9b9e66ac3938",
   "metadata": {},
   "outputs": [],
   "source": [
    "class Solution:\n",
    "    def maxWidthRamp(self, nums: List[int]) -> int:\n",
    "        #implement using a stack\n",
    "        stack = []\n",
    "        n = len(nums)\n",
    "        for i in range(n):\n",
    "            if not stack or nums[stack[-1]] > nums[i]:\n",
    "                stack.append(i)\n",
    "        ans = 0\n",
    "        for i in range(n-1, -1, -1):\n",
    "            while stack and nums[i] >= nums[stack[-1]]:\n",
    "                idx = stack.pop()\n",
    "                ans = max(ans, i-idx)\n",
    "        return ans"
   ]
  }
 ],
 "metadata": {
  "kernelspec": {
   "display_name": "Python 3 (ipykernel)",
   "language": "python",
   "name": "python3"
  },
  "language_info": {
   "codemirror_mode": {
    "name": "ipython",
    "version": 3
   },
   "file_extension": ".py",
   "mimetype": "text/x-python",
   "name": "python",
   "nbconvert_exporter": "python",
   "pygments_lexer": "ipython3",
   "version": "3.8.8"
  }
 },
 "nbformat": 4,
 "nbformat_minor": 5
}
