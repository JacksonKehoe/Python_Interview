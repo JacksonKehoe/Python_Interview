{
 "cells": [
  {
   "cell_type": "code",
   "execution_count": null,
   "id": "39547e6f-cd58-4a66-a326-ba7e4f70a83c",
   "metadata": {},
   "outputs": [],
   "source": [
    "# You are given an integer array nums. In one move, you can pick an index i where 0 <= i < nums.length and increment nums[i] by 1.\n",
    "\n",
    "# Return the minimum number of moves to make every value in nums unique.\n",
    "\n",
    "# The test cases are generated so that the answer fits in a 32-bit integer."
   ]
  },
  {
   "cell_type": "code",
   "execution_count": null,
   "id": "2b7c81c2-c2a1-4282-93f2-6345cfee926a",
   "metadata": {},
   "outputs": [],
   "source": [
    "class Solution:\n",
    "    def minIncrementForUnique(self, nums: List[int]) -> int:\n",
    "        if not nums:\n",
    "            return 0\n",
    "        diff = 0\n",
    "        stack =[]\n",
    "        c = Counter(nums)\n",
    "        for i in range(min(c.keys()), max(c.keys())+1):\n",
    "            if i in c:\n",
    "                stack += [i] * (c[i] - 1)\n",
    "            elif i not in c and stack:\n",
    "                diff += i - stack.pop()\n",
    "        return diff + sum(range(i+1, i+1+len(stack))) - sum(stack)"
   ]
  }
 ],
 "metadata": {
  "kernelspec": {
   "display_name": "Python 3 (ipykernel)",
   "language": "python",
   "name": "python3"
  },
  "language_info": {
   "codemirror_mode": {
    "name": "ipython",
    "version": 3
   },
   "file_extension": ".py",
   "mimetype": "text/x-python",
   "name": "python",
   "nbconvert_exporter": "python",
   "pygments_lexer": "ipython3",
   "version": "3.8.8"
  }
 },
 "nbformat": 4,
 "nbformat_minor": 5
}
