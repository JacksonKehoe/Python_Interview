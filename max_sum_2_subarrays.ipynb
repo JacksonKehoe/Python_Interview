{
 "cells": [
  {
   "cell_type": "code",
   "execution_count": null,
   "id": "df406d78-fdc4-475d-bc58-a5fae368458a",
   "metadata": {},
   "outputs": [],
   "source": [
    "# Given an integer array nums and two integers firstLen and secondLen, return the maximum sum of elements in two non-overlapping subarrays with lengths firstLen and secondLen.\n",
    "\n",
    "# The array with length firstLen could occur before or after the array with length secondLen, but they have to be non-overlapping.\n",
    "\n",
    "# A subarray is a contiguous part of an array."
   ]
  },
  {
   "cell_type": "code",
   "execution_count": null,
   "id": "9e41e87d-1e62-4806-a5e8-6e5aae70a1ff",
   "metadata": {},
   "outputs": [],
   "source": [
    "class Solution:\n",
    "    def maxSumTwoNoOverlap(self, nums: List[int], firstLen: int, secondLen: int) -> int:\n",
    "\n",
    "        nums = list(accumulate(nums, initial = 0))\n",
    "        mx1 = mx2 = mx3 = 0\n",
    "\n",
    "        for sm0, sm1, sm2, sm3 in zip(nums,\n",
    "                                      nums[firstLen:],\n",
    "                                      nums[secondLen:],\n",
    "                                      nums[firstLen+secondLen:]):\n",
    "            mx1 = max(mx1, sm1 - sm0)\n",
    "            mx2 = max(mx2, sm2 - sm0)\n",
    "            mx3 = max(mx3, max(mx1 + sm3 - sm1, mx2 + sm3 - sm2))\n",
    "        \n",
    "        return mx3"
   ]
  }
 ],
 "metadata": {
  "kernelspec": {
   "display_name": "Python 3 (ipykernel)",
   "language": "python",
   "name": "python3"
  },
  "language_info": {
   "codemirror_mode": {
    "name": "ipython",
    "version": 3
   },
   "file_extension": ".py",
   "mimetype": "text/x-python",
   "name": "python",
   "nbconvert_exporter": "python",
   "pygments_lexer": "ipython3",
   "version": "3.8.8"
  }
 },
 "nbformat": 4,
 "nbformat_minor": 5
}
