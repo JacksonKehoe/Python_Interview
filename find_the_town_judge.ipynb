{
 "cells": [
  {
   "cell_type": "code",
   "execution_count": null,
   "id": "d4c33634-1b6f-4366-94cc-ec0275ced389",
   "metadata": {},
   "outputs": [],
   "source": [
    "# In a town, there are n people labeled from 1 to n. There is a rumor that one of these people is secretly the town judge.\n",
    "\n",
    "# If the town judge exists, then:\n",
    "\n",
    "# The town judge trusts nobody.\n",
    "# Everybody (except for the town judge) trusts the town judge.\n",
    "# There is exactly one person that satisfies properties 1 and 2.\n",
    "# You are given an array trust where trust[i] = [ai, bi] representing that the person labeled ai trusts the person labeled bi. If a trust relationship does not exist in trust array, then such a trust relationship does not exist.\n",
    "\n",
    "# Return the label of the town judge if the town judge exists and can be identified, or return -1 otherwise.\n",
    "\n",
    " \n",
    "\n",
    "# Example 1:\n",
    "\n",
    "# Input: n = 2, trust = [[1,2]]\n",
    "# Output: 2\n",
    "# Example 2:\n",
    "\n",
    "# Input: n = 3, trust = [[1,3],[2,3]]\n",
    "# Output: 3\n",
    "# Example 3:\n",
    "\n",
    "# Input: n = 3, trust = [[1,3],[2,3],[3,1]]\n",
    "# Output: -1"
   ]
  },
  {
   "cell_type": "code",
   "execution_count": null,
   "id": "5a9b9c17-5c22-4b4a-8581-348a054d371b",
   "metadata": {},
   "outputs": [],
   "source": [
    "class Solution:\n",
    "    def findJudge(self, n: int, trust: List[List[int]]) -> int:\n",
    "        indeg = [0] * (n+1)\n",
    "        outdeg = [0] * (n+1)\n",
    "\n",
    "        for i, j in trust:\n",
    "            outdeg[i] += 1\n",
    "            indeg[j] += 1\n",
    "\n",
    "        for i in range(1, n+1):\n",
    "            #check if personal has n-1 incoming trusts(cant trust self) and 0 outgoing trusts\n",
    "            if indeg[i] == n - 1 and outdeg[i] == 0:\n",
    "                return i\n",
    "\n",
    "        return -1"
   ]
  }
 ],
 "metadata": {
  "kernelspec": {
   "display_name": "Python 3 (ipykernel)",
   "language": "python",
   "name": "python3"
  },
  "language_info": {
   "codemirror_mode": {
    "name": "ipython",
    "version": 3
   },
   "file_extension": ".py",
   "mimetype": "text/x-python",
   "name": "python",
   "nbconvert_exporter": "python",
   "pygments_lexer": "ipython3",
   "version": "3.8.8"
  }
 },
 "nbformat": 4,
 "nbformat_minor": 5
}
