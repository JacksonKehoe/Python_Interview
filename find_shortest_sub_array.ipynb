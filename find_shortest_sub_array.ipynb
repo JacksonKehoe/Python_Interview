{
 "cells": [
  {
   "cell_type": "code",
   "execution_count": null,
   "id": "25eb02db-a699-43ba-aa08-8be1b33440ea",
   "metadata": {},
   "outputs": [],
   "source": [
    "# Given a non-empty array of non-negative integers nums, the degree of this array is defined as the maximum frequency of any one of its elements.\n",
    "\n",
    "# Your task is to find the smallest possible length of a (contiguous) subarray of nums, that has the same degree as nums.\n",
    "\n",
    " \n",
    "\n",
    "# Example 1:\n",
    "\n",
    "# Input: nums = [1,2,2,3,1]\n",
    "# Output: 2\n",
    "# Explanation: \n",
    "# The input array has a degree of 2 because both elements 1 and 2 appear twice.\n",
    "# Of the subarrays that have the same degree:\n",
    "# [1, 2, 2, 3, 1], [1, 2, 2, 3], [2, 2, 3, 1], [1, 2, 2], [2, 2, 3], [2, 2]\n",
    "# The shortest length is 2. So return 2.\n",
    "# Example 2:\n",
    "\n",
    "# Input: nums = [1,2,2,3,1,4,2]\n",
    "# Output: 6\n",
    "# Explanation: \n",
    "# The degree is 3 because the element 2 is repeated 3 times.\n",
    "# So [2,2,3,1,4,2] is the shortest subarray, therefore returning 6."
   ]
  },
  {
   "cell_type": "code",
   "execution_count": null,
   "id": "4606e9c0-fe4e-412f-bce9-3ad69a7ee4a6",
   "metadata": {},
   "outputs": [],
   "source": [
    "class Solution:\n",
    "    def findShortestSubArray(self, nums: List[int]) -> int:\n",
    "        #creating a hashmap\n",
    "        c = defaultdict(list)\n",
    "        for i, n in enumerate(nums):\n",
    "            c[n].append(i)\n",
    "        #find largest indice of hashmap for degree\n",
    "        degree = max([len(x) for x in c.values()])\n",
    "\n",
    "        result = len(nums)\n",
    "        for indices in c.values():\n",
    "            if len(indices) == degree:\n",
    "                result = min(result, indices[-1] - indices[0])\n",
    "        return result + 1"
   ]
  }
 ],
 "metadata": {
  "kernelspec": {
   "display_name": "Python 3 (ipykernel)",
   "language": "python",
   "name": "python3"
  },
  "language_info": {
   "codemirror_mode": {
    "name": "ipython",
    "version": 3
   },
   "file_extension": ".py",
   "mimetype": "text/x-python",
   "name": "python",
   "nbconvert_exporter": "python",
   "pygments_lexer": "ipython3",
   "version": "3.8.8"
  }
 },
 "nbformat": 4,
 "nbformat_minor": 5
}
