{
 "cells": [
  {
   "cell_type": "code",
   "execution_count": null,
   "id": "0bbeebca-df9a-4b02-b20c-d5741b95e44b",
   "metadata": {},
   "outputs": [],
   "source": [
    "# You are given an array of characters letters that is sorted in non-decreasing order, and a character target. There are at least two different characters in letters.\n",
    "\n",
    "# Return the smallest character in letters that is lexicographically greater than target. If such a character does not exist, return the first character in letters.\n",
    "\n",
    " \n",
    "\n",
    "# Example 1:\n",
    "\n",
    "# Input: letters = [\"c\",\"f\",\"j\"], target = \"a\"\n",
    "# Output: \"c\"\n",
    "# Explanation: The smallest character that is lexicographically greater than 'a' in letters is 'c'.\n",
    "# Example 2:\n",
    "\n",
    "# Input: letters = [\"c\",\"f\",\"j\"], target = \"c\"\n",
    "# Output: \"f\"\n",
    "# Explanation: The smallest character that is lexicographically greater than 'c' in letters is 'f'.\n",
    "# Example 3:\n",
    "\n",
    "# Input: letters = [\"x\",\"x\",\"y\",\"y\"], target = \"z\"\n",
    "# Output: \"x\"\n",
    "# Explanation: There are no characters in letters that is lexicographically greater than 'z' so we return letters[0]."
   ]
  },
  {
   "cell_type": "code",
   "execution_count": null,
   "id": "bcfc69c0-291a-401b-a1ec-a6ec0d85ec7c",
   "metadata": {},
   "outputs": [],
   "source": [
    "class Solution:\n",
    "    def nextGreatestLetter(self, letters: List[str], target: str) -> str:\n",
    "\n",
    "        t_ord = ord(target) - ord('a')\n",
    "        for i in letters:\n",
    "            l_ord = ord(i) - ord('a')\n",
    "            if l_ord > t_ord:\n",
    "                return i\n",
    "        return letters[0] "
   ]
  }
 ],
 "metadata": {
  "kernelspec": {
   "display_name": "Python 3 (ipykernel)",
   "language": "python",
   "name": "python3"
  },
  "language_info": {
   "codemirror_mode": {
    "name": "ipython",
    "version": 3
   },
   "file_extension": ".py",
   "mimetype": "text/x-python",
   "name": "python",
   "nbconvert_exporter": "python",
   "pygments_lexer": "ipython3",
   "version": "3.8.8"
  }
 },
 "nbformat": 4,
 "nbformat_minor": 5
}
