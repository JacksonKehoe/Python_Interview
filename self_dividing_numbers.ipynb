{
 "cells": [
  {
   "cell_type": "code",
   "execution_count": null,
   "id": "4c8969c3-67b0-4b7f-91f7-c7b7fdd6e977",
   "metadata": {},
   "outputs": [],
   "source": [
    "# A self-dividing number is a number that is divisible by every digit it contains.\n",
    "\n",
    "# For example, 128 is a self-dividing number because 128 % 1 == 0, 128 % 2 == 0, and 128 % 8 == 0.\n",
    "# A self-dividing number is not allowed to contain the digit zero.\n",
    "\n",
    "# Given two integers left and right, return a list of all the self-dividing numbers in the range [left, right].\n",
    "\n",
    " \n",
    "\n",
    "# Example 1:\n",
    "\n",
    "# Input: left = 1, right = 22\n",
    "# Output: [1,2,3,4,5,6,7,8,9,11,12,15,22]\n",
    "# Example 2:\n",
    "\n",
    "# Input: left = 47, right = 85\n",
    "# Output: [48,55,66,77]"
   ]
  },
  {
   "cell_type": "code",
   "execution_count": null,
   "id": "caf3de2f-ba5a-405b-ac9e-f3e96ff19eb8",
   "metadata": {},
   "outputs": [],
   "source": [
    "class Solution:\n",
    "    def selfDividingNumbers(self, left: int, right: int) -> List[int]:\n",
    "        self_dividing = []\n",
    "        for i in range(left, right+1):\n",
    "            if \"0\" in str(i): continue\n",
    "            val = i\n",
    "            while val > 0:\n",
    "                n = val % 10\n",
    "                if i % n != 0:\n",
    "                    val = -1\n",
    "                val = val // 10\n",
    "\n",
    "            if val != -1: self_dividing.append(i)\n",
    "\n",
    "        return self_dividing"
   ]
  }
 ],
 "metadata": {
  "kernelspec": {
   "display_name": "Python 3 (ipykernel)",
   "language": "python",
   "name": "python3"
  },
  "language_info": {
   "codemirror_mode": {
    "name": "ipython",
    "version": 3
   },
   "file_extension": ".py",
   "mimetype": "text/x-python",
   "name": "python",
   "nbconvert_exporter": "python",
   "pygments_lexer": "ipython3",
   "version": "3.8.8"
  }
 },
 "nbformat": 4,
 "nbformat_minor": 5
}
