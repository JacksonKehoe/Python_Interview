{
 "cells": [
  {
   "cell_type": "code",
   "execution_count": null,
   "id": "d69f0b04-d668-4e31-a141-90ab225610d3",
   "metadata": {},
   "outputs": [],
   "source": [
    "# Given an integer array nums, return the largest perimeter of a triangle with a non-zero area, formed from three of these lengths. \n",
    "# If it is impossible to form any triangle of a non-zero area, return 0."
   ]
  },
  {
   "cell_type": "code",
   "execution_count": null,
   "id": "473cd190-e652-453a-9b34-4e57f498ba18",
   "metadata": {},
   "outputs": [],
   "source": [
    "class Solution:\n",
    "    def largestPerimeter(self, nums: List[int]) -> int:\n",
    "        nums.sort(reverse = True)\n",
    "\n",
    "        for i in range(len(nums)-2):\n",
    "            base, sd1, sd2 = nums[i], nums[i+1], nums[i+2]\n",
    "            if sd1 + sd2 > base:\n",
    "                return base + sd1 + sd2\n",
    "        return 0\n"
   ]
  }
 ],
 "metadata": {
  "kernelspec": {
   "display_name": "Python 3 (ipykernel)",
   "language": "python",
   "name": "python3"
  },
  "language_info": {
   "codemirror_mode": {
    "name": "ipython",
    "version": 3
   },
   "file_extension": ".py",
   "mimetype": "text/x-python",
   "name": "python",
   "nbconvert_exporter": "python",
   "pygments_lexer": "ipython3",
   "version": "3.8.8"
  }
 },
 "nbformat": 4,
 "nbformat_minor": 5
}
