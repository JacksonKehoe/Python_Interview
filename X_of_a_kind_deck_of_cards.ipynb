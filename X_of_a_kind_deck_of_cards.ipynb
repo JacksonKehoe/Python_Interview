{
 "cells": [
  {
   "cell_type": "code",
   "execution_count": 1,
   "id": "0f943f13-3fa3-4f99-82fc-73b4e140db99",
   "metadata": {},
   "outputs": [],
   "source": [
    "# You are given an integer array deck where deck[i] represents the number written on the ith card.\n",
    "\n",
    "# Partition the cards into one or more groups such that:\n",
    "\n",
    "# Each group has exactly x cards where x > 1, and\n",
    "# All the cards in one group have the same integer written on them.\n",
    "# Return true if such partition is possible, or false otherwise.\n",
    "\n",
    " \n",
    "\n",
    "# Example 1:\n",
    "\n",
    "# Input: deck = [1,2,3,4,4,3,2,1]\n",
    "# Output: true\n",
    "# Explanation: Possible partition [1,1],[2,2],[3,3],[4,4].\n",
    "# Example 2:\n",
    "\n",
    "# Input: deck = [1,1,1,2,2,2,3,3]\n",
    "# Output: false\n",
    "# Explanation: No possible partition."
   ]
  },
  {
   "cell_type": "code",
   "execution_count": null,
   "id": "ba8db2fe-5ca2-4ba1-8d68-6442426fcb24",
   "metadata": {},
   "outputs": [],
   "source": [
    "from collections import Counter\n",
    "from math import gcd\n",
    "\n",
    "class Solution:\n",
    "    def hasGroupsSizeX(self, deck: List[int]) -> bool:\n",
    "\n",
    "        counter = set(Counter(deck).values())\n",
    "        gcd_value = next(iter(cnt_set))\n",
    "\n",
    "        for i in counter:\n",
    "            gcd_value = gcd(gcd_value, i)\n",
    "            if gcd_value == 1: return False\n",
    "        return True"
   ]
  }
 ],
 "metadata": {
  "kernelspec": {
   "display_name": "Python 3 (ipykernel)",
   "language": "python",
   "name": "python3"
  },
  "language_info": {
   "codemirror_mode": {
    "name": "ipython",
    "version": 3
   },
   "file_extension": ".py",
   "mimetype": "text/x-python",
   "name": "python",
   "nbconvert_exporter": "python",
   "pygments_lexer": "ipython3",
   "version": "3.8.8"
  }
 },
 "nbformat": 4,
 "nbformat_minor": 5
}
